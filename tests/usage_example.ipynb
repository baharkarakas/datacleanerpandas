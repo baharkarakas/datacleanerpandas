{
 "cells": [
  {
   "cell_type": "code",
   "id": "initial_id",
   "metadata": {
    "collapsed": true,
    "ExecuteTime": {
     "end_time": "2024-05-21T16:16:01.268054Z",
     "start_time": "2024-05-21T16:16:01.265260Z"
    }
   },
   "source": [
    ""
   ],
   "outputs": [],
   "execution_count": 22
  },
  {
   "metadata": {
    "ExecuteTime": {
     "end_time": "2024-05-21T14:14:24.199476Z",
     "start_time": "2024-05-21T14:14:20.571502Z"
    }
   },
   "cell_type": "code",
   "source": [
    "# Import necessary libraries and classes\n",
    "import pandas as pd\n",
    "from dataPreprocessing.categorical_encoder import CategoricalEncoder\n",
    "from dataPreprocessing.data_type_converter import DataTypeConverter\n",
    "from dataPreprocessing.datetime_handler import DateTimeHandler\n",
    "from dataPreprocessing.feature_engineer import FeatureEngineer\n",
    "from dataPreprocessing.missing_value_handler import MissingValueHandler\n",
    "from dataPreprocessing.outlier_handler import OutlierHandler\n",
    "from dataPreprocessing.scaler import Scaler\n",
    "from dataPreprocessing.text_cleaner import TextCleaner\n"
   ],
   "id": "ea6526c071ec918b",
   "outputs": [
    {
     "name": "stderr",
     "output_type": "stream",
     "text": [
      "[nltk_data] Downloading package stopwords to\n",
      "[nltk_data]     C:\\Users\\Alper\\AppData\\Roaming\\nltk_data...\n",
      "[nltk_data]   Package stopwords is already up-to-date!\n",
      "[nltk_data] Downloading package wordnet to\n",
      "[nltk_data]     C:\\Users\\Alper\\AppData\\Roaming\\nltk_data...\n",
      "[nltk_data]   Package wordnet is already up-to-date!\n"
     ]
    }
   ],
   "execution_count": 3
  },
  {
   "metadata": {
    "ExecuteTime": {
     "end_time": "2024-05-21T15:47:13.625321Z",
     "start_time": "2024-05-21T15:47:13.613446Z"
    }
   },
   "cell_type": "code",
   "source": [
    "# Load the dataset\n",
    "file_path = r'C:\\Users\\Alper\\OneDrive\\Masaüstü\\synthetic_sample_data.csv'\n",
    "data = pd.read_csv(file_path)\n",
    "\n",
    "# Display the first few rows of the dataset\n",
    "print(\"Initial Data:\")\n",
    "print(data.head())\n",
    "\n"
   ],
   "id": "7350fd32ba2d59aa",
   "outputs": [
    {
     "name": "stdout",
     "output_type": "stream",
     "text": [
      "Initial Data:\n",
      "   Unnamed: 0   Movie Id        Genre Release Date    Rating  \\\n",
      "0          44  TOYHANVUR       Horror   07/07/1985  9.750176   \n",
      "1          47  CORCILSLF  Documentary   05/08/1999  7.912876   \n",
      "2          64  UBWUVIHEL    Adventure   08/05/1996  3.116053   \n",
      "3          67  CGHMHKJHH      Fantasy   21/07/2018  8.811783   \n",
      "4          67  WMLWHTAMN      Fantasy   28/10/2011  5.250991   \n",
      "\n",
      "                                             Summary Shooting Location  \\\n",
      "0  A group of college students get more than they...          New York   \n",
      "1  A documentary that sheds light on the devastat...             Paris   \n",
      "2  A lost civilization is rediscovered deep withi...            Sydney   \n",
      "3  A young inventor builds a time machine and emb...             Paris   \n",
      "4  A young inventor builds a time machine and emb...            Sydney   \n",
      "\n",
      "   Budget in USD  Awards  Popular  \n",
      "0   1.035408e+07       2        1  \n",
      "1   5.722105e+06       1        1  \n",
      "2   5.601372e+07       0        0  \n",
      "3   4.422451e+06       1        1  \n",
      "4   1.163290e+08       0        0  \n"
     ]
    }
   ],
   "execution_count": 18
  },
  {
   "metadata": {},
   "cell_type": "markdown",
   "source": "",
   "id": "9eb2f05e4f311a25"
  },
  {
   "metadata": {
    "ExecuteTime": {
     "end_time": "2024-05-21T15:47:29.124234Z",
     "start_time": "2024-05-21T15:47:29.101733Z"
    }
   },
   "cell_type": "code",
   "source": [
    "# Handling Missing Values\n",
    "# Fill missing values in the 'Rating' column with the mean\n",
    "data = MissingValueHandler.fill_with_mean(data, 'Rating')\n",
    "print(\"\\nData after handling missing values (mean):\")\n",
    "print(data.head())\n",
    "\n",
    "# Fill missing values in the 'Rating' column with the median\n",
    "data = MissingValueHandler.fill_with_median(data, 'Rating')\n",
    "print(\"\\nData after handling missing values (median):\")\n",
    "print(data.head())\n",
    "\n",
    "# Fill missing values in the 'Rating' column with the mode\n",
    "data = MissingValueHandler.fill_with_mode(data, 'Rating')\n",
    "print(\"\\nData after handling missing values (mode):\")\n",
    "print(data.head())\n",
    "\n",
    "# Drop rows with missing values in the 'Rating' column\n",
    "data = MissingValueHandler.drop_missing(data, 'Rating')\n",
    "print(\"\\nData after dropping missing values:\")\n",
    "print(data.head())\n"
   ],
   "id": "d45cb647e30819f3",
   "outputs": [
    {
     "name": "stdout",
     "output_type": "stream",
     "text": [
      "\n",
      "Data after handling missing values (mean):\n",
      "   Unnamed: 0   Movie Id        Genre Release Date    Rating  \\\n",
      "0          44  TOYHANVUR       Horror   07/07/1985  9.750176   \n",
      "1          47  CORCILSLF  Documentary   05/08/1999  7.912876   \n",
      "2          64  UBWUVIHEL    Adventure   08/05/1996  3.116053   \n",
      "3          67  CGHMHKJHH      Fantasy   21/07/2018  8.811783   \n",
      "4          67  WMLWHTAMN      Fantasy   28/10/2011  5.250991   \n",
      "\n",
      "                                             Summary Shooting Location  \\\n",
      "0  A group of college students get more than they...          New York   \n",
      "1  A documentary that sheds light on the devastat...             Paris   \n",
      "2  A lost civilization is rediscovered deep withi...            Sydney   \n",
      "3  A young inventor builds a time machine and emb...             Paris   \n",
      "4  A young inventor builds a time machine and emb...            Sydney   \n",
      "\n",
      "   Budget in USD  Awards  Popular  \n",
      "0   1.035408e+07       2        1  \n",
      "1   5.722105e+06       1        1  \n",
      "2   5.601372e+07       0        0  \n",
      "3   4.422451e+06       1        1  \n",
      "4   1.163290e+08       0        0  \n",
      "\n",
      "Data after handling missing values (median):\n",
      "   Unnamed: 0   Movie Id        Genre Release Date    Rating  \\\n",
      "0          44  TOYHANVUR       Horror   07/07/1985  9.750176   \n",
      "1          47  CORCILSLF  Documentary   05/08/1999  7.912876   \n",
      "2          64  UBWUVIHEL    Adventure   08/05/1996  3.116053   \n",
      "3          67  CGHMHKJHH      Fantasy   21/07/2018  8.811783   \n",
      "4          67  WMLWHTAMN      Fantasy   28/10/2011  5.250991   \n",
      "\n",
      "                                             Summary Shooting Location  \\\n",
      "0  A group of college students get more than they...          New York   \n",
      "1  A documentary that sheds light on the devastat...             Paris   \n",
      "2  A lost civilization is rediscovered deep withi...            Sydney   \n",
      "3  A young inventor builds a time machine and emb...             Paris   \n",
      "4  A young inventor builds a time machine and emb...            Sydney   \n",
      "\n",
      "   Budget in USD  Awards  Popular  \n",
      "0   1.035408e+07       2        1  \n",
      "1   5.722105e+06       1        1  \n",
      "2   5.601372e+07       0        0  \n",
      "3   4.422451e+06       1        1  \n",
      "4   1.163290e+08       0        0  \n",
      "\n",
      "Data after handling missing values (mode):\n",
      "   Unnamed: 0   Movie Id        Genre Release Date    Rating  \\\n",
      "0          44  TOYHANVUR       Horror   07/07/1985  9.750176   \n",
      "1          47  CORCILSLF  Documentary   05/08/1999  7.912876   \n",
      "2          64  UBWUVIHEL    Adventure   08/05/1996  3.116053   \n",
      "3          67  CGHMHKJHH      Fantasy   21/07/2018  8.811783   \n",
      "4          67  WMLWHTAMN      Fantasy   28/10/2011  5.250991   \n",
      "\n",
      "                                             Summary Shooting Location  \\\n",
      "0  A group of college students get more than they...          New York   \n",
      "1  A documentary that sheds light on the devastat...             Paris   \n",
      "2  A lost civilization is rediscovered deep withi...            Sydney   \n",
      "3  A young inventor builds a time machine and emb...             Paris   \n",
      "4  A young inventor builds a time machine and emb...            Sydney   \n",
      "\n",
      "   Budget in USD  Awards  Popular  \n",
      "0   1.035408e+07       2        1  \n",
      "1   5.722105e+06       1        1  \n",
      "2   5.601372e+07       0        0  \n",
      "3   4.422451e+06       1        1  \n",
      "4   1.163290e+08       0        0  \n",
      "\n",
      "Data after dropping missing values:\n",
      "   Unnamed: 0   Movie Id        Genre Release Date    Rating  \\\n",
      "0          44  TOYHANVUR       Horror   07/07/1985  9.750176   \n",
      "1          47  CORCILSLF  Documentary   05/08/1999  7.912876   \n",
      "2          64  UBWUVIHEL    Adventure   08/05/1996  3.116053   \n",
      "3          67  CGHMHKJHH      Fantasy   21/07/2018  8.811783   \n",
      "4          67  WMLWHTAMN      Fantasy   28/10/2011  5.250991   \n",
      "\n",
      "                                             Summary Shooting Location  \\\n",
      "0  A group of college students get more than they...          New York   \n",
      "1  A documentary that sheds light on the devastat...             Paris   \n",
      "2  A lost civilization is rediscovered deep withi...            Sydney   \n",
      "3  A young inventor builds a time machine and emb...             Paris   \n",
      "4  A young inventor builds a time machine and emb...            Sydney   \n",
      "\n",
      "   Budget in USD  Awards  Popular  \n",
      "0   1.035408e+07       2        1  \n",
      "1   5.722105e+06       1        1  \n",
      "2   5.601372e+07       0        0  \n",
      "3   4.422451e+06       1        1  \n",
      "4   1.163290e+08       0        0  \n"
     ]
    }
   ],
   "execution_count": 19
  },
  {
   "metadata": {
    "ExecuteTime": {
     "end_time": "2024-05-21T15:49:00.076366Z",
     "start_time": "2024-05-21T15:49:00.059614Z"
    }
   },
   "cell_type": "code",
   "source": [
    "# Handling Outliers\n",
    "# Handle outliers in the dataset using the IQR method\n",
    "outlier_handler = OutlierHandler(method=\"iqr\", threshold=1.5)\n",
    "data = outlier_handler.fit_transform(data)\n",
    "print(\"\\nData after handling outliers (IQR method):\")\n",
    "print(data.head())\n"
   ],
   "id": "ede5598c774f96fd",
   "outputs": [
    {
     "name": "stdout",
     "output_type": "stream",
     "text": [
      "\n",
      "Data after handling outliers (IQR method):\n",
      "   Unnamed: 0   Movie Id        Genre Release Date    Rating  \\\n",
      "0          44  TOYHANVUR       Horror   07/07/1985  9.750176   \n",
      "1          47  CORCILSLF  Documentary   05/08/1999  7.912876   \n",
      "2          64  UBWUVIHEL    Adventure   08/05/1996  4.749800   \n",
      "3          67  CGHMHKJHH      Fantasy   21/07/2018  8.811783   \n",
      "4          67  WMLWHTAMN      Fantasy   28/10/2011  5.250991   \n",
      "\n",
      "                                             Summary Shooting Location  \\\n",
      "0  A group of college students get more than they...          New York   \n",
      "1  A documentary that sheds light on the devastat...             Paris   \n",
      "2  A lost civilization is rediscovered deep withi...            Sydney   \n",
      "3  A young inventor builds a time machine and emb...             Paris   \n",
      "4  A young inventor builds a time machine and emb...            Sydney   \n",
      "\n",
      "   Budget in USD  Awards  Popular  \n",
      "0   1.035408e+07       2        0  \n",
      "1   5.722105e+06       1        0  \n",
      "2   5.601372e+07       0        0  \n",
      "3   4.422451e+06       1        0  \n",
      "4   1.163290e+08       0        0  \n"
     ]
    }
   ],
   "execution_count": 20
  },
  {
   "metadata": {
    "ExecuteTime": {
     "end_time": "2024-05-21T15:49:45.192437Z",
     "start_time": "2024-05-21T15:49:45.173532Z"
    }
   },
   "cell_type": "code",
   "source": [
    "# Data Scaling\n",
    "# Standardize the dataset\n",
    "scaler = Scaler(method=\"standard\")\n",
    "data = scaler.fit_transform(data)\n",
    "print(\"\\nData after scaling (standard):\")\n",
    "print(data.head())\n",
    "\n",
    "# Min-Max scaling of the dataset\n",
    "scaler = Scaler(method=\"minmax\")\n",
    "data = scaler.fit_transform(data)\n",
    "print(\"\\nData after scaling (min-max):\")\n",
    "print(data.head())\n"
   ],
   "id": "1403fee217fd3d57",
   "outputs": [
    {
     "name": "stdout",
     "output_type": "stream",
     "text": [
      "\n",
      "Data after scaling (standard):\n",
      "   Unnamed: 0   Movie Id        Genre Release Date    Rating  \\\n",
      "0   -0.208069  TOYHANVUR       Horror   07/07/1985  1.024764   \n",
      "1   -0.106241  CORCILSLF  Documentary   05/08/1999 -0.138680   \n",
      "2    0.470787  UBWUVIHEL    Adventure   08/05/1996 -2.141655   \n",
      "3    0.572615  CGHMHKJHH      Fantasy   21/07/2018  0.430540   \n",
      "4    0.572615  WMLWHTAMN      Fantasy   28/10/2011 -1.824283   \n",
      "\n",
      "                                             Summary Shooting Location  \\\n",
      "0  A group of college students get more than they...          New York   \n",
      "1  A documentary that sheds light on the devastat...             Paris   \n",
      "2  A lost civilization is rediscovered deep withi...            Sydney   \n",
      "3  A young inventor builds a time machine and emb...             Paris   \n",
      "4  A young inventor builds a time machine and emb...            Sydney   \n",
      "\n",
      "   Budget in USD    Awards  Popular  \n",
      "0      -1.258172  1.160412      0.0  \n",
      "1      -1.415478 -0.055953      0.0  \n",
      "2       0.292471 -1.272318      0.0  \n",
      "3      -1.459616 -0.055953      0.0  \n",
      "4       2.340832 -1.272318      0.0  \n",
      "\n",
      "Data after scaling (min-max):\n",
      "   Unnamed: 0   Movie Id        Genre Release Date    Rating  \\\n",
      "0        0.44  TOYHANVUR       Horror   07/07/1985  0.955072   \n",
      "1        0.47  CORCILSLF  Documentary   05/08/1999  0.604148   \n",
      "2        0.64  UBWUVIHEL    Adventure   08/05/1996  0.000000   \n",
      "3        0.67  CGHMHKJHH      Fantasy   21/07/2018  0.775839   \n",
      "4        0.67  WMLWHTAMN      Fantasy   28/10/2011  0.095728   \n",
      "\n",
      "                                             Summary Shooting Location  \\\n",
      "0  A group of college students get more than they...          New York   \n",
      "1  A documentary that sheds light on the devastat...             Paris   \n",
      "2  A lost civilization is rediscovered deep withi...            Sydney   \n",
      "3  A young inventor builds a time machine and emb...             Paris   \n",
      "4  A young inventor builds a time machine and emb...            Sydney   \n",
      "\n",
      "   Budget in USD  Awards  Popular  \n",
      "0       0.071021     1.0      0.0  \n",
      "1       0.039214     0.5      0.0  \n",
      "2       0.384560     0.0      0.0  \n",
      "3       0.030289     0.5      0.0  \n",
      "4       0.798738     0.0      0.0  \n"
     ]
    }
   ],
   "execution_count": 21
  },
  {
   "metadata": {
    "ExecuteTime": {
     "end_time": "2024-05-21T15:50:41.576800Z",
     "start_time": "2024-05-21T15:50:41.521556Z"
    }
   },
   "cell_type": "code",
   "source": [
    "# Text Cleaning\n",
    "# Initialize the TextCleaner\n",
    "text_cleaner = TextCleaner(remove_stopwords=True, lemmatize=True)\n",
    "\n",
    "# Clean the 'Summary' column\n",
    "data['Summary'] = data['Summary'].apply(text_cleaner.clean)\n",
    "print(\"\\nData after text cleaning:\")\n",
    "print(data[['Summary']].head())\n"
   ],
   "id": "a0276954b29504d6",
   "outputs": [
    {
     "name": "stdout",
     "output_type": "stream",
     "text": [
      "\n",
      "Data after text cleaning:\n",
      "                                             Summary\n",
      "0  group college student get bargained spend week...\n",
      "1  documentary shed light devastating effect clim...\n",
      "2  lost civilization rediscovered deep within ama...\n",
      "3  young inventor build time machine embarks jour...\n",
      "4  young inventor build time machine embarks jour...\n"
     ]
    }
   ],
   "execution_count": 22
  },
  {
   "metadata": {
    "ExecuteTime": {
     "end_time": "2024-05-21T15:41:30.503546Z",
     "start_time": "2024-05-21T15:41:30.487791Z"
    }
   },
   "cell_type": "code",
   "source": [
    "### Categorical Encoding ###\n",
    "# Label encode the 'Genre' column\n",
    "data, le = CategoricalEncoder.label_encode(data, 'Genre')\n",
    "print(\"\\nData after label encoding 'Genre':\")\n",
    "print(data.head())\n"
   ],
   "id": "be1a21f88892506",
   "outputs": [
    {
     "name": "stdout",
     "output_type": "stream",
     "text": [
      "\n",
      "Data after label encoding 'Genre':\n",
      "   Unnamed: 0   Movie Id  Genre Release Date    Rating  \\\n",
      "0   -0.208069  TOYHANVUR     11   07/07/1985  1.024764   \n",
      "1   -0.106241  CORCILSLF      5   05/08/1999 -0.138680   \n",
      "2    0.470787  UBWUVIHEL      1   08/05/1996 -2.141655   \n",
      "3    0.572615  CGHMHKJHH      8   21/07/2018  0.430540   \n",
      "4    0.572615  WMLWHTAMN      8   28/10/2011 -1.824283   \n",
      "\n",
      "                                             Summary Shooting Location  \\\n",
      "0  group college student get bargained spend week...          New York   \n",
      "1  documentary shed light devastating effect clim...             Paris   \n",
      "2  lost civilization rediscovered deep within ama...            Sydney   \n",
      "3  young inventor build time machine embarks jour...             Paris   \n",
      "4  young inventor build time machine embarks jour...            Sydney   \n",
      "\n",
      "   Budget in USD    Awards  Popular  \n",
      "0      -1.258172  1.160412      0.0  \n",
      "1      -1.415478 -0.055953      0.0  \n",
      "2       0.292471 -1.272318      0.0  \n",
      "3      -1.459616 -0.055953      0.0  \n",
      "4       2.340832 -1.272318      0.0  \n"
     ]
    }
   ],
   "execution_count": 9
  },
  {
   "metadata": {
    "ExecuteTime": {
     "end_time": "2024-05-21T15:41:41.636195Z",
     "start_time": "2024-05-21T15:41:41.622166Z"
    }
   },
   "cell_type": "code",
   "source": [
    "# One-hot encode the 'Shooting Location' column\n",
    "data, ohe = CategoricalEncoder.one_hot_encode(data, 'Shooting Location')\n",
    "print(\"\\nData after one-hot encoding 'Shooting Location':\")\n",
    "print(data.head())\n"
   ],
   "id": "c1b83d6ec003d480",
   "outputs": [
    {
     "name": "stdout",
     "output_type": "stream",
     "text": [
      "\n",
      "Data after one-hot encoding 'Shooting Location':\n",
      "   Unnamed: 0   Movie Id  Genre Release Date    Rating  \\\n",
      "0   -0.208069  TOYHANVUR     11   07/07/1985  1.024764   \n",
      "1   -0.106241  CORCILSLF      5   05/08/1999 -0.138680   \n",
      "2    0.470787  UBWUVIHEL      1   08/05/1996 -2.141655   \n",
      "3    0.572615  CGHMHKJHH      8   21/07/2018  0.430540   \n",
      "4    0.572615  WMLWHTAMN      8   28/10/2011 -1.824283   \n",
      "\n",
      "                                             Summary  Budget in USD    Awards  \\\n",
      "0  group college student get bargained spend week...      -1.258172  1.160412   \n",
      "1  documentary shed light devastating effect clim...      -1.415478 -0.055953   \n",
      "2  lost civilization rediscovered deep within ama...       0.292471 -1.272318   \n",
      "3  young inventor build time machine embarks jour...      -1.459616 -0.055953   \n",
      "4  young inventor build time machine embarks jour...       2.340832 -1.272318   \n",
      "\n",
      "   Popular  Shooting Location_London  Shooting Location_Los Angeles  \\\n",
      "0      0.0                       0.0                            0.0   \n",
      "1      0.0                       0.0                            0.0   \n",
      "2      0.0                       0.0                            0.0   \n",
      "3      0.0                       0.0                            0.0   \n",
      "4      0.0                       0.0                            0.0   \n",
      "\n",
      "   Shooting Location_New York  Shooting Location_Paris  \\\n",
      "0                         1.0                      0.0   \n",
      "1                         0.0                      1.0   \n",
      "2                         0.0                      0.0   \n",
      "3                         0.0                      1.0   \n",
      "4                         0.0                      0.0   \n",
      "\n",
      "   Shooting Location_Sydney  Shooting Location_Tokyo  \\\n",
      "0                       0.0                      0.0   \n",
      "1                       0.0                      0.0   \n",
      "2                       1.0                      0.0   \n",
      "3                       0.0                      0.0   \n",
      "4                       1.0                      0.0   \n",
      "\n",
      "   Shooting Location_Toronto  \n",
      "0                        0.0  \n",
      "1                        0.0  \n",
      "2                        0.0  \n",
      "3                        0.0  \n",
      "4                        0.0  \n"
     ]
    }
   ],
   "execution_count": 10
  },
  {
   "metadata": {
    "ExecuteTime": {
     "end_time": "2024-05-21T16:17:55.808319Z",
     "start_time": "2024-05-21T16:17:55.790748Z"
    }
   },
   "cell_type": "code",
   "source": [
    "# Date and Time Manipulation\n",
    "# Convert 'Release Date' to datetime\n",
    "data = DateTimeHandler.convert_to_datetime(data, 'Release Date', format='%d/%m/%Y')\n",
    "print(\"\\nData after date conversion:\")\n",
    "print(data.head())\n",
    "\n",
    "# Extract the year from 'Release Date'\n",
    "data = DateTimeHandler.extract_date_component(data, 'Release Date', 'year')\n",
    "print(\"\\nData after extracting year from 'Release Date':\")\n",
    "print(data.head())\n",
    "\n",
    "# Extract the month from 'Release Date'\n",
    "data = DateTimeHandler.extract_date_component(data, 'Release Date', 'month')\n",
    "print(\"\\nData after extracting month from 'Release Date':\")\n",
    "print(data.head())\n",
    "\n",
    "# Extract the day from 'Release Date'\n",
    "data = DateTimeHandler.extract_date_component(data, 'Release Date', 'day')\n",
    "print(\"\\nData after extracting day from 'Release Date':\")\n",
    "print(data.head())\n"
   ],
   "id": "21fddbdc94e001f6",
   "outputs": [
    {
     "name": "stdout",
     "output_type": "stream",
     "text": [
      "\n",
      "Data after date conversion:\n",
      "   Unnamed: 0   Movie Id        Genre Release Date    Rating  \\\n",
      "0        0.44  TOYHANVUR       Horror   1985-07-07  0.955072   \n",
      "1        0.47  CORCILSLF  Documentary   1999-08-05  0.604148   \n",
      "2        0.64  UBWUVIHEL    Adventure   1996-05-08  0.000000   \n",
      "3        0.67  CGHMHKJHH      Fantasy   2018-07-21  0.775839   \n",
      "4        0.67  WMLWHTAMN      Fantasy   2011-10-28  0.095728   \n",
      "\n",
      "                                             Summary Shooting Location  \\\n",
      "0  group college student get bargained spend week...          New York   \n",
      "1  documentary shed light devastating effect clim...             Paris   \n",
      "2  lost civilization rediscovered deep within ama...            Sydney   \n",
      "3  young inventor build time machine embarks jour...             Paris   \n",
      "4  young inventor build time machine embarks jour...            Sydney   \n",
      "\n",
      "   Budget in USD  Awards  Popular  \n",
      "0       0.071021     1.0      0.0  \n",
      "1       0.039214     0.5      0.0  \n",
      "2       0.384560     0.0      0.0  \n",
      "3       0.030289     0.5      0.0  \n",
      "4       0.798738     0.0      0.0  \n"
     ]
    }
   ],
   "execution_count": 23
  },
  {
   "metadata": {
    "ExecuteTime": {
     "end_time": "2024-05-21T15:42:14.745793Z",
     "start_time": "2024-05-21T15:42:14.732650Z"
    }
   },
   "cell_type": "code",
   "source": [
    "# Feature Engineering\n",
    "# Add a new feature that is the difference between 'Budget in USD' and 'Awards'\n",
    "data = FeatureEngineer.add_difference(data, 'Budget in USD', 'Awards', 'Budget_Awards_Diff')\n",
    "print(\"\\nData after adding 'Budget_Awards_Diff':\")\n",
    "print(data.head())\n",
    "\n",
    "# Add a new feature that is the product of 'Rating' and 'Popular'\n",
    "data = FeatureEngineer.add_product(data, 'Rating', 'Popular', 'Rating_Times_Popular')\n",
    "print(\"\\nData after adding 'Rating_Times_Popular':\")\n",
    "print(data.head())\n",
    "\n",
    "# Add a new feature that is the sum of 'Rating' and 'Awards'\n",
    "data = FeatureEngineer.add_sum(data, 'Rating', 'Awards', 'Rating_Plus_Awards')\n",
    "print(\"\\nData after adding 'Rating_Plus_Awards':\")\n",
    "print(data.head())\n",
    "\n",
    "# Add a new feature that is the square of 'Rating'\n",
    "data = FeatureEngineer.add_square(data, 'Rating', 'Rating_Squared')\n",
    "print(\"\\nData after adding 'Rating_Squared':\")\n",
    "print(data.head())\n"
   ],
   "id": "e093246fc3293175",
   "outputs": [
    {
     "name": "stdout",
     "output_type": "stream",
     "text": [
      "\n",
      "Data after feature engineering:\n",
      "   Unnamed: 0   Movie Id  Genre Release Date    Rating  \\\n",
      "0   -0.208069  TOYHANVUR     11   1985-07-07  1.024764   \n",
      "1   -0.106241  CORCILSLF      5   1999-08-05 -0.138680   \n",
      "2    0.470787  UBWUVIHEL      1   1996-05-08 -2.141655   \n",
      "3    0.572615  CGHMHKJHH      8   2018-07-21  0.430540   \n",
      "4    0.572615  WMLWHTAMN      8   2011-10-28 -1.824283   \n",
      "\n",
      "                                             Summary  Budget in USD    Awards  \\\n",
      "0  group college student get bargained spend week...      -1.258172  1.160412   \n",
      "1  documentary shed light devastating effect clim...      -1.415478 -0.055953   \n",
      "2  lost civilization rediscovered deep within ama...       0.292471 -1.272318   \n",
      "3  young inventor build time machine embarks jour...      -1.459616 -0.055953   \n",
      "4  young inventor build time machine embarks jour...       2.340832 -1.272318   \n",
      "\n",
      "   Popular  Shooting Location_London  Shooting Location_Los Angeles  \\\n",
      "0      0.0                       0.0                            0.0   \n",
      "1      0.0                       0.0                            0.0   \n",
      "2      0.0                       0.0                            0.0   \n",
      "3      0.0                       0.0                            0.0   \n",
      "4      0.0                       0.0                            0.0   \n",
      "\n",
      "   Shooting Location_New York  Shooting Location_Paris  \\\n",
      "0                         1.0                      0.0   \n",
      "1                         0.0                      1.0   \n",
      "2                         0.0                      0.0   \n",
      "3                         0.0                      1.0   \n",
      "4                         0.0                      0.0   \n",
      "\n",
      "   Shooting Location_Sydney  Shooting Location_Tokyo  \\\n",
      "0                       0.0                      0.0   \n",
      "1                       0.0                      0.0   \n",
      "2                       1.0                      0.0   \n",
      "3                       0.0                      0.0   \n",
      "4                       1.0                      0.0   \n",
      "\n",
      "   Shooting Location_Toronto  Release Date_year  Budget_Awards_Diff  \\\n",
      "0                        0.0               1985           -2.418584   \n",
      "1                        0.0               1999           -1.359525   \n",
      "2                        0.0               1996            1.564789   \n",
      "3                        0.0               2018           -1.403663   \n",
      "4                        0.0               2011            3.613150   \n",
      "\n",
      "   Rating_Times_Popular  \n",
      "0                   0.0  \n",
      "1                  -0.0  \n",
      "2                  -0.0  \n",
      "3                   0.0  \n",
      "4                  -0.0  \n"
     ]
    }
   ],
   "execution_count": 12
  },
  {
   "metadata": {
    "ExecuteTime": {
     "end_time": "2024-05-21T15:42:28.057399Z",
     "start_time": "2024-05-21T15:42:28.037629Z"
    }
   },
   "cell_type": "code",
   "source": [
    "# Data Type Conversion\n",
    "# Convert the 'Rating' column to numeric\n",
    "data = DataTypeConverter.to_numeric(data, 'Rating')\n",
    "print(\"\\nData after converting 'Rating' to numeric:\")\n",
    "print(data.head())\n",
    "\n",
    "# Convert the 'Genre' column to categorical\n",
    "data = DataTypeConverter.to_categorical(data, 'Genre')\n",
    "print(\"\\nData after converting 'Genre' to categorical:\")\n",
    "print(data.head())\n"
   ],
   "id": "c72da7593f254fd7",
   "outputs": [
    {
     "name": "stdout",
     "output_type": "stream",
     "text": [
      "\n",
      "Data after data type conversion:\n",
      "   Unnamed: 0   Movie Id Genre Release Date    Rating  \\\n",
      "0   -0.208069  TOYHANVUR    11   1985-07-07  1.024764   \n",
      "1   -0.106241  CORCILSLF     5   1999-08-05 -0.138680   \n",
      "2    0.470787  UBWUVIHEL     1   1996-05-08 -2.141655   \n",
      "3    0.572615  CGHMHKJHH     8   2018-07-21  0.430540   \n",
      "4    0.572615  WMLWHTAMN     8   2011-10-28 -1.824283   \n",
      "\n",
      "                                             Summary  Budget in USD    Awards  \\\n",
      "0  group college student get bargained spend week...      -1.258172  1.160412   \n",
      "1  documentary shed light devastating effect clim...      -1.415478 -0.055953   \n",
      "2  lost civilization rediscovered deep within ama...       0.292471 -1.272318   \n",
      "3  young inventor build time machine embarks jour...      -1.459616 -0.055953   \n",
      "4  young inventor build time machine embarks jour...       2.340832 -1.272318   \n",
      "\n",
      "   Popular  Shooting Location_London  Shooting Location_Los Angeles  \\\n",
      "0      0.0                       0.0                            0.0   \n",
      "1      0.0                       0.0                            0.0   \n",
      "2      0.0                       0.0                            0.0   \n",
      "3      0.0                       0.0                            0.0   \n",
      "4      0.0                       0.0                            0.0   \n",
      "\n",
      "   Shooting Location_New York  Shooting Location_Paris  \\\n",
      "0                         1.0                      0.0   \n",
      "1                         0.0                      1.0   \n",
      "2                         0.0                      0.0   \n",
      "3                         0.0                      1.0   \n",
      "4                         0.0                      0.0   \n",
      "\n",
      "   Shooting Location_Sydney  Shooting Location_Tokyo  \\\n",
      "0                       0.0                      0.0   \n",
      "1                       0.0                      0.0   \n",
      "2                       1.0                      0.0   \n",
      "3                       0.0                      0.0   \n",
      "4                       1.0                      0.0   \n",
      "\n",
      "   Shooting Location_Toronto  Release Date_year  Budget_Awards_Diff  \\\n",
      "0                        0.0               1985           -2.418584   \n",
      "1                        0.0               1999           -1.359525   \n",
      "2                        0.0               1996            1.564789   \n",
      "3                        0.0               2018           -1.403663   \n",
      "4                        0.0               2011            3.613150   \n",
      "\n",
      "   Rating_Times_Popular  \n",
      "0                   0.0  \n",
      "1                  -0.0  \n",
      "2                  -0.0  \n",
      "3                   0.0  \n",
      "4                  -0.0  \n"
     ]
    }
   ],
   "execution_count": 13
  },
  {
   "metadata": {
    "ExecuteTime": {
     "end_time": "2024-05-21T15:42:44.251726Z",
     "start_time": "2024-05-21T15:42:44.241463Z"
    }
   },
   "cell_type": "code",
   "source": [
    "# Display the final processed dataset\n",
    "print(\"\\nFinal Processed Data:\")\n",
    "print(data.head())\n"
   ],
   "id": "6e4dbb6bd238c949",
   "outputs": [
    {
     "name": "stdout",
     "output_type": "stream",
     "text": [
      "\n",
      "Final Processed Data:\n",
      "   Unnamed: 0   Movie Id Genre Release Date    Rating  \\\n",
      "0   -0.208069  TOYHANVUR    11   1985-07-07  1.024764   \n",
      "1   -0.106241  CORCILSLF     5   1999-08-05 -0.138680   \n",
      "2    0.470787  UBWUVIHEL     1   1996-05-08 -2.141655   \n",
      "3    0.572615  CGHMHKJHH     8   2018-07-21  0.430540   \n",
      "4    0.572615  WMLWHTAMN     8   2011-10-28 -1.824283   \n",
      "\n",
      "                                             Summary  Budget in USD    Awards  \\\n",
      "0  group college student get bargained spend week...      -1.258172  1.160412   \n",
      "1  documentary shed light devastating effect clim...      -1.415478 -0.055953   \n",
      "2  lost civilization rediscovered deep within ama...       0.292471 -1.272318   \n",
      "3  young inventor build time machine embarks jour...      -1.459616 -0.055953   \n",
      "4  young inventor build time machine embarks jour...       2.340832 -1.272318   \n",
      "\n",
      "   Popular  Shooting Location_London  Shooting Location_Los Angeles  \\\n",
      "0      0.0                       0.0                            0.0   \n",
      "1      0.0                       0.0                            0.0   \n",
      "2      0.0                       0.0                            0.0   \n",
      "3      0.0                       0.0                            0.0   \n",
      "4      0.0                       0.0                            0.0   \n",
      "\n",
      "   Shooting Location_New York  Shooting Location_Paris  \\\n",
      "0                         1.0                      0.0   \n",
      "1                         0.0                      1.0   \n",
      "2                         0.0                      0.0   \n",
      "3                         0.0                      1.0   \n",
      "4                         0.0                      0.0   \n",
      "\n",
      "   Shooting Location_Sydney  Shooting Location_Tokyo  \\\n",
      "0                       0.0                      0.0   \n",
      "1                       0.0                      0.0   \n",
      "2                       1.0                      0.0   \n",
      "3                       0.0                      0.0   \n",
      "4                       1.0                      0.0   \n",
      "\n",
      "   Shooting Location_Toronto  Release Date_year  Budget_Awards_Diff  \\\n",
      "0                        0.0               1985           -2.418584   \n",
      "1                        0.0               1999           -1.359525   \n",
      "2                        0.0               1996            1.564789   \n",
      "3                        0.0               2018           -1.403663   \n",
      "4                        0.0               2011            3.613150   \n",
      "\n",
      "   Rating_Times_Popular  \n",
      "0                   0.0  \n",
      "1                  -0.0  \n",
      "2                  -0.0  \n",
      "3                   0.0  \n",
      "4                  -0.0  \n"
     ]
    }
   ],
   "execution_count": 14
  },
  {
   "metadata": {},
   "cell_type": "code",
   "outputs": [],
   "execution_count": null,
   "source": "",
   "id": "f3f9048870806cf"
  }
 ],
 "metadata": {
  "kernelspec": {
   "display_name": "Python 3",
   "language": "python",
   "name": "python3"
  },
  "language_info": {
   "codemirror_mode": {
    "name": "ipython",
    "version": 2
   },
   "file_extension": ".py",
   "mimetype": "text/x-python",
   "name": "python",
   "nbconvert_exporter": "python",
   "pygments_lexer": "ipython2",
   "version": "2.7.6"
  }
 },
 "nbformat": 4,
 "nbformat_minor": 5
}
